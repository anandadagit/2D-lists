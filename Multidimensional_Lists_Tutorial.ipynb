{
 "cells": [
  {
   "cell_type": "markdown",
   "id": "f6380757",
   "metadata": {},
   "source": [
    "\n",
    "# Multidimensional Lists (Arrays) in Python — Standalone Tutorial\n",
    "\n",
    "This notebook teaches **multidimensional lists** (lists of lists) through short, focused examples.\n",
    "Each concept is introduced with a brief explanation followed by a runnable code cell.\n"
   ]
  },
  {
   "cell_type": "markdown",
   "id": "42c92486",
   "metadata": {},
   "source": [
    "## 1. Iterating through a 1D list"
   ]
  },
  {
   "cell_type": "code",
   "execution_count": null,
   "id": "1bf9f08d",
   "metadata": {},
   "outputs": [],
   "source": [
    "# Iterating through a list\n",
    "task = [\"a\", \"b\", \"c\", \"d\"]\n",
    "for letter in task:\n",
    "    print(letter)"
   ]
  },
  {
   "cell_type": "markdown",
   "id": "724bc29a",
   "metadata": {},
   "source": [
    "\n",
    "## 2. Introducing a 2D list: `scores`\n",
    "\n",
    "Each element of the outer list is an inner list representing a row.\n"
   ]
  },
  {
   "cell_type": "code",
   "execution_count": null,
   "id": "a2b0e724",
   "metadata": {},
   "outputs": [],
   "source": [
    "# Multidimensional list\n",
    "scores = [[78, 81, 84], [55, 54, 62], [89, 71, 90]]\n",
    "\n",
    "# Outer length: number of rows\n",
    "print(len(scores))"
   ]
  },
  {
   "cell_type": "markdown",
   "id": "d57163e0",
   "metadata": {},
   "source": [
    "\n",
    "## 3. Iterating over a 2D list\n",
    "\n",
    "### 3A. Row-wise iteration\n"
   ]
  },
  {
   "cell_type": "code",
   "execution_count": null,
   "id": "ebe59f3f",
   "metadata": {},
   "outputs": [],
   "source": [
    "# Iterating through rows\n",
    "for score in scores:\n",
    "    print(score)"
   ]
  },
  {
   "cell_type": "markdown",
   "id": "edfae245",
   "metadata": {},
   "source": [
    "### 3B. Value-wise iteration (nested loop)"
   ]
  },
  {
   "cell_type": "code",
   "execution_count": null,
   "id": "8de35d4b",
   "metadata": {},
   "outputs": [],
   "source": [
    "# Iterating through individual values\n",
    "for score in scores:\n",
    "    for element in score:\n",
    "        print(element)"
   ]
  },
  {
   "cell_type": "markdown",
   "id": "e0d55e81",
   "metadata": {},
   "source": [
    "\n",
    "## 4. Index-based iteration\n",
    "\n",
    "### 4A. Iterate by row index\n"
   ]
  },
  {
   "cell_type": "code",
   "execution_count": null,
   "id": "521f64e8",
   "metadata": {},
   "outputs": [],
   "source": [
    "# Index-based iteration (rows)\n",
    "for i in range(len(scores)):\n",
    "    print(scores[i])"
   ]
  },
  {
   "cell_type": "markdown",
   "id": "1d05e681",
   "metadata": {},
   "source": [
    "### 4B. Iterate by row and column indices"
   ]
  },
  {
   "cell_type": "code",
   "execution_count": null,
   "id": "7492bbd5",
   "metadata": {},
   "outputs": [],
   "source": [
    "# Nested index-based iteration (row + column)\n",
    "for i in range(len(scores)):\n",
    "    for j in range(len(scores[i])):\n",
    "        print(scores[i][j])"
   ]
  },
  {
   "cell_type": "markdown",
   "id": "cc154607",
   "metadata": {},
   "source": [
    "\n",
    "## 5. Finding the maximum value in a 2D list\n",
    "\n",
    "### 5A. Manual scan\n"
   ]
  },
  {
   "cell_type": "code",
   "execution_count": null,
   "id": "920fc7e2",
   "metadata": {},
   "outputs": [],
   "source": [
    "# Manual scan for maximum\n",
    "max_value = 0\n",
    "for score in scores:\n",
    "    for value in score:\n",
    "        if value > max_value:\n",
    "            max_value = value\n",
    "print(max_value)"
   ]
  },
  {
   "cell_type": "markdown",
   "id": "731a719f",
   "metadata": {},
   "source": [
    "### 5B. Function for reusability"
   ]
  },
  {
   "cell_type": "code",
   "execution_count": null,
   "id": "1551d0d7",
   "metadata": {},
   "outputs": [],
   "source": [
    "# Function to calculate the maximum value\n",
    "def calculate_max_value(data):\n",
    "    max_value = 0\n",
    "    for row in data:\n",
    "        for value in row:\n",
    "            if value > max_value:\n",
    "                max_value = value\n",
    "    return max_value\n",
    "\n",
    "print(calculate_max_value(scores))"
   ]
  },
  {
   "cell_type": "markdown",
   "id": "89f2cc7b",
   "metadata": {},
   "source": [
    "\n",
    "## 6. Common operations on a 2D list: `activities`\n",
    "\n",
    "The following cells demonstrate indexing, `append`, `insert`, mutating inner lists, removing elements, and iteration styles.\n"
   ]
  },
  {
   "cell_type": "markdown",
   "id": "56522f43",
   "metadata": {},
   "source": [
    "### 6.1 Define `activities` and index access"
   ]
  },
  {
   "cell_type": "code",
   "execution_count": null,
   "id": "6c9270b9",
   "metadata": {},
   "outputs": [],
   "source": [
    "# To declare an empty multidimensional list, use the same syntax as a 1D list:\n",
    "# activities = []\n",
    "\n",
    "# Define a two-dimensional list named activities\n",
    "activities = [\n",
    "    ['Work', 9],\n",
    "    ['Eat', 1],\n",
    "    ['Commute', 2],\n",
    "    ['Play Game', 1],\n",
    "    ['Sleep', 7]\n",
    "]\n",
    "\n",
    "# Index access: row 4 (index 3), column 2 (index 1)\n",
    "print(activities[3][1])  # Output: 1"
   ]
  },
  {
   "cell_type": "markdown",
   "id": "af455a64",
   "metadata": {},
   "source": [
    "### 6.2 Append a new row"
   ]
  },
  {
   "cell_type": "code",
   "execution_count": null,
   "id": "22b9b226",
   "metadata": {},
   "outputs": [],
   "source": [
    "# Append a new element to the end\n",
    "activities.append(['Study', 2])\n",
    "activities"
   ]
  },
  {
   "cell_type": "markdown",
   "id": "c0c8d1d6",
   "metadata": {},
   "source": [
    "### 6.3 Insert a row at a specific position"
   ]
  },
  {
   "cell_type": "code",
   "execution_count": null,
   "id": "7a156ebb",
   "metadata": {},
   "outputs": [],
   "source": [
    "# Insert into second position (index 1)\n",
    "activities.insert(1, ['Programming', 2])\n",
    "activities"
   ]
  },
  {
   "cell_type": "markdown",
   "id": "3cb8a462",
   "metadata": {},
   "source": [
    "### 6.4 Mutate inner lists: append a percentage"
   ]
  },
  {
   "cell_type": "code",
   "execution_count": null,
   "id": "ed113a9d",
   "metadata": {},
   "outputs": [],
   "source": [
    "# Append a percentage (of 24 hours) to each inner list\n",
    "for activity in activities:\n",
    "    percentage = round((activity[1] / 24) * 100)\n",
    "    activity.append(str(percentage) + '%')\n",
    "activities"
   ]
  },
  {
   "cell_type": "markdown",
   "id": "37ae4337",
   "metadata": {},
   "source": [
    "### 6.5 Pretty print the nested list"
   ]
  },
  {
   "cell_type": "code",
   "execution_count": null,
   "id": "dd093e70",
   "metadata": {},
   "outputs": [],
   "source": [
    "from pprint import pprint\n",
    "pprint(activities)"
   ]
  },
  {
   "cell_type": "markdown",
   "id": "9bbc3559",
   "metadata": {},
   "source": [
    "### 6.6 Remove the last row with `pop()`"
   ]
  },
  {
   "cell_type": "code",
   "execution_count": null,
   "id": "3b3188cc",
   "metadata": {},
   "outputs": [],
   "source": [
    "# Remove the last element from the outer list\n",
    "activities.pop()\n",
    "activities"
   ]
  },
  {
   "cell_type": "markdown",
   "id": "75835ab9",
   "metadata": {},
   "source": [
    "### 6.7 Remove the last element of each inner list"
   ]
  },
  {
   "cell_type": "code",
   "execution_count": null,
   "id": "57a299bd",
   "metadata": {},
   "outputs": [],
   "source": [
    "# Remove the last element from every inner list (the percentage)\n",
    "for activity in activities:\n",
    "    activity.pop()\n",
    "activities"
   ]
  },
  {
   "cell_type": "markdown",
   "id": "7d285296",
   "metadata": {},
   "source": [
    "### 6.8 Iterate with indices (i, j)"
   ]
  },
  {
   "cell_type": "code",
   "execution_count": null,
   "id": "7fb7b502",
   "metadata": {},
   "outputs": [],
   "source": [
    "# Loop the outer and inner lists using indices\n",
    "for i in range(len(activities)):\n",
    "    inner_array_length = len(activities[i])\n",
    "    for j in range(inner_array_length):\n",
    "        print(f'[{i},{j}] = {activities[i][j]}')"
   ]
  },
  {
   "cell_type": "markdown",
   "id": "14d16d3a",
   "metadata": {},
   "source": [
    "### 6.9 Iterate with nested for-each loops"
   ]
  },
  {
   "cell_type": "code",
   "execution_count": null,
   "id": "9c1ac524",
   "metadata": {},
   "outputs": [],
   "source": [
    "# Iterate directly over rows and values\n",
    "for activity in activities:\n",
    "    for data in activity:\n",
    "        print(data)"
   ]
  },
  {
   "cell_type": "markdown",
   "id": "8137f341",
   "metadata": {},
   "source": [
    "### 6.10 Final state of `activities`"
   ]
  },
  {
   "cell_type": "code",
   "execution_count": null,
   "id": "d4362b20",
   "metadata": {},
   "outputs": [],
   "source": [
    "from pprint import pprint\n",
    "pprint(activities)"
   ]
  },
  {
   "cell_type": "markdown",
   "id": "a029391c",
   "metadata": {},
   "source": [
    "## 7. Sorting a simple (1D) list"
   ]
  },
  {
   "cell_type": "code",
   "execution_count": null,
   "id": "a1e04609",
   "metadata": {},
   "outputs": [],
   "source": [
    "# Sorting a list\n",
    "tests = [\"c\", \"b\", \"a\"]\n",
    "tests.sort()\n",
    "print(tests)"
   ]
  },
  {
   "cell_type": "markdown",
   "id": "d284a2b7",
   "metadata": {},
   "source": [
    "\n",
    "## 8. Summary of skills\n",
    "- Iterating 1D and 2D lists (row-wise, value-wise, and index-based).  \n",
    "- Scanning a 2D list to compute an aggregate (maximum value).  \n",
    "- Common list operations on nested structures (`append`, `insert`, `pop`, indexing).  \n",
    "- Pretty printing nested structures with `pprint`.  \n",
    "- Sorting a simple list.  \n"
   ]
  }
 ],
 "metadata": {
  "kernelspec": {
   "display_name": "Python 3",
   "language": "python",
   "name": "python3"
  },
  "language_info": {
   "codemirror_mode": {
    "name": "ipython",
    "version": 3
   },
   "file_extension": ".py",
   "mimetype": "text/x-python",
   "name": "python",
   "nbconvert_exporter": "python",
   "pygments_lexer": "ipython3",
   "version": "3.12.1"
  }
 },
 "nbformat": 4,
 "nbformat_minor": 5
}
